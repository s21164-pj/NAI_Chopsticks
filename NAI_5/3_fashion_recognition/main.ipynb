{
 "cells": [
  {
   "cell_type": "code",
   "execution_count": 1,
   "metadata": {},
   "outputs": [],
   "source": [
    "%reset -f"
   ]
  },
  {
   "cell_type": "code",
   "execution_count": null,
   "metadata": {
    "pycharm": {
     "is_executing": true
    }
   },
   "outputs": [],
   "source": [
    "import tensorflow as tf"
   ]
  },
  {
   "cell_type": "code",
   "execution_count": 3,
   "metadata": {},
   "outputs": [],
   "source": [
    "mnist = tf.keras.datasets.fashion_mnist;"
   ]
  },
  {
   "cell_type": "code",
   "execution_count": 4,
   "metadata": {},
   "outputs": [],
   "source": [
    "(training_images, training_labels), (test_images, test_labels) = mnist.load_data();"
   ]
  },
  {
   "cell_type": "code",
   "execution_count": 5,
   "metadata": {},
   "outputs": [],
   "source": [
    "training_images = training_images / 255.0;\n",
    "test_images = test_images / 255.0;"
   ]
  },
  {
   "cell_type": "code",
   "execution_count": 6,
   "metadata": {},
   "outputs": [],
   "source": [
    "model = tf.keras.models.Sequential([tf.keras.layers.Flatten(),\n",
    "                                    tf.keras.layers.Dense(128, activation=tf.nn.relu),\n",
    "                                    tf.keras.layers.Dense(10, activation=tf.nn.softmax)]);"
   ]
  },
  {
   "cell_type": "code",
   "execution_count": 7,
   "metadata": {},
   "outputs": [
    {
     "name": "stdout",
     "output_type": "stream",
     "text": [
      "Epoch 1/5\n",
      "1875/1875 [==============================] - 4s 2ms/step - loss: 0.6327 - accuracy: 0.7806\n",
      "Epoch 2/5\n",
      "1875/1875 [==============================] - 4s 2ms/step - loss: 0.3896 - accuracy: 0.8600\n",
      "Epoch 3/5\n",
      "1875/1875 [==============================] - 4s 2ms/step - loss: 0.3379 - accuracy: 0.8765\n",
      "Epoch 4/5\n",
      "1875/1875 [==============================] - 4s 2ms/step - loss: 0.3132 - accuracy: 0.8839\n",
      "Epoch 5/5\n",
      "1875/1875 [==============================] - 4s 2ms/step - loss: 0.2931 - accuracy: 0.8920\n"
     ]
    }
   ],
   "source": [
    "model.compile(optimizer = tf.optimizers.Adam(),\n",
    "             loss = 'sparse_categorical_crossentropy',\n",
    "             metrics=['accuracy']);\n",
    "model.fit(training_images, training_labels, epochs=5);"
   ]
  },
  {
   "cell_type": "code",
   "execution_count": 8,
   "metadata": {},
   "outputs": [
    {
     "name": "stdout",
     "output_type": "stream",
     "text": [
      "313/313 [==============================] - 1s 2ms/step - loss: 0.3495 - accuracy: 0.8748\n"
     ]
    }
   ],
   "source": [
    "model.evaluate(test_images, test_labels);"
   ]
  },
  {
   "cell_type": "markdown",
   "metadata": {},
   "source": [
    "# Visualization"
   ]
  },
  {
   "cell_type": "code",
   "execution_count": 9,
   "metadata": {},
   "outputs": [
    {
     "name": "stdout",
     "output_type": "stream",
     "text": [
      "9\n",
      "[[0.         0.         0.         0.         0.         0.         0.         0.         0.         0.         0.         0.         0.         0.         0.         0.         0.\n",
      "  0.         0.         0.         0.         0.         0.         0.         0.         0.         0.         0.        ]\n",
      " [0.         0.         0.         0.         0.         0.         0.         0.         0.         0.         0.         0.         0.         0.         0.         0.         0.\n",
      "  0.         0.         0.         0.         0.         0.         0.         0.         0.         0.         0.        ]\n",
      " [0.         0.         0.         0.         0.         0.         0.         0.         0.         0.         0.         0.         0.         0.         0.         0.         0.\n",
      "  0.         0.         0.         0.         0.         0.         0.         0.         0.         0.         0.        ]\n",
      " [0.         0.         0.         0.         0.         0.         0.         0.         0.         0.         0.         0.         0.         0.         0.         0.         0.\n",
      "  0.         0.         0.         0.         0.         0.         0.         0.         0.         0.         0.        ]\n",
      " [0.         0.         0.         0.         0.         0.         0.         0.         0.         0.         0.         0.         0.         0.         0.         0.         0.\n",
      "  0.         0.         0.         0.         0.         0.         0.         0.         0.         0.         0.        ]\n",
      " [0.         0.         0.         0.         0.         0.         0.         0.         0.         0.         0.         0.         0.         0.         0.         0.         0.32156863\n",
      "  0.73333333 0.10196078 0.         0.         0.         0.         0.         0.         0.         0.         0.        ]\n",
      " [0.         0.         0.         0.         0.         0.         0.         0.         0.         0.00392157 0.         0.         0.00392157 0.         0.         0.70196078 0.94117647\n",
      "  0.92941176 1.         0.94117647 0.54509804 0.3254902  0.25098039 0.16862745 0.23529412 0.21176471 0.         0.00392157]\n",
      " [0.         0.         0.         0.         0.         0.         0.         0.         0.         0.00392157 0.         0.         0.00392157 0.         0.22745098 0.9372549  0.87058824\n",
      "  0.91764706 0.93333333 0.96470588 0.98823529 0.99607843 1.         0.97254902 1.         0.73333333 0.         0.        ]\n",
      " [0.         0.         0.         0.         0.         0.         0.         0.         0.         0.         0.00784314 0.01176471 0.         0.         0.76078431 0.9372549  0.88627451\n",
      "  0.92941176 0.92156863 0.90980392 0.90196078 0.91764706 0.91764706 0.91372549 0.97647059 0.67058824 0.         0.        ]\n",
      " [0.         0.         0.         0.         0.         0.         0.         0.         0.         0.00392157 0.00392157 0.         0.         0.03921569 1.         0.88627451 0.94901961\n",
      "  0.9372549  0.93333333 0.9372549  0.94117647 0.9372549  0.94901961 0.93333333 0.97254902 0.75294118 0.         0.        ]\n",
      " [0.         0.         0.         0.         0.         0.         0.         0.         0.         0.         0.         0.         0.         0.6745098  0.96078431 0.89803922 0.94117647\n",
      "  0.94509804 0.94117647 0.94509804 0.95294118 0.95294118 0.94509804 0.89019608 0.98039216 0.81960784 0.         0.        ]\n",
      " [0.         0.         0.         0.         0.         0.         0.         0.         0.         0.02352941 0.01960784 0.         0.24313725 1.         0.90196078 0.9254902  0.9372549\n",
      "  0.94509804 0.94901961 0.94509804 0.94901961 0.94901961 0.93333333 0.93333333 0.94901961 0.99215686 0.         0.        ]\n",
      " [0.         0.         0.         0.         0.         0.         0.         0.         0.         0.01176471 0.         0.         1.         0.92156863 0.89411765 0.95686275 0.94509804\n",
      "  0.94509804 0.95686275 0.95294118 0.95294118 0.95686275 0.95294118 0.9372549  0.92156863 1.         0.08627451 0.        ]\n",
      " [0.         0.         0.         0.         0.         0.         0.         0.         0.         0.         0.         0.96470588 0.89411765 0.8627451  0.96078431 0.95294118 0.92941176\n",
      "  0.94509804 0.94901961 0.94901961 0.94901961 0.95294118 0.9372549  0.92941176 0.92156863 0.99215686 0.41568627 0.        ]\n",
      " [0.         0.         0.01176471 0.01568627 0.01568627 0.00784314 0.00392157 0.         0.         0.07058824 0.95294118 0.89411765 0.90588235 0.94509804 0.95294118 0.92941176 0.93333333\n",
      "  0.94901961 0.94509804 0.94117647 0.94117647 0.94117647 0.92156863 0.92941176 0.9254902  0.96470588 0.91764706 0.        ]\n",
      " [0.00392157 0.         0.         0.         0.         0.         0.         0.         0.08627451 1.         0.93333333 0.89019608 0.93333333 0.9372549  0.92941176 0.94509804 0.94509804\n",
      "  0.92941176 0.9254902  0.93333333 0.9372549  0.9372549  0.9372549  0.9372549  0.9372549  0.92941176 1.         0.        ]\n",
      " [0.         0.         0.         0.         0.         0.09803922 0.3254902  0.65882353 1.         0.88235294 0.88235294 0.92156863 0.89411765 0.90196078 0.89019608 0.88235294 0.89019608\n",
      "  0.90588235 0.90980392 0.92941176 0.94117647 0.9254902  0.93333333 0.9372549  0.9372549  0.92156863 0.98431373 0.24313725]\n",
      " [0.         0.64705882 0.88235294 0.8627451  0.87843137 1.         1.         0.91372549 0.89803922 0.8745098  0.89019608 0.89411765 0.90588235 0.90980392 0.92156863 0.92941176 0.91372549\n",
      "  0.90196078 0.89411765 0.90196078 0.91372549 0.90980392 0.92156863 0.91372549 0.91764706 0.92156863 1.         0.22745098]\n",
      " [0.20392157 0.98431373 0.86666667 0.88627451 0.89019608 0.88235294 0.88235294 0.88235294 0.88627451 0.88627451 0.88235294 0.89019608 0.90588235 0.89803922 0.90980392 0.9372549  0.96078431\n",
      "  0.98039216 0.98431373 0.98823529 0.99607843 0.99607843 0.98823529 0.99607843 0.98823529 0.92156863 1.         0.        ]\n",
      " [0.12156863 0.81568627 0.90196078 0.91372549 0.91372549 0.92941176 0.9254902  0.9254902  0.94509804 0.92156863 0.94509804 0.96862745 0.98431373 0.99607843 0.94901961 0.9254902  0.91372549\n",
      "  0.89019608 0.85882353 0.79215686 0.75686275 0.74117647 0.72941176 0.70980392 0.67058824 0.64705882 0.74509804 0.16470588]\n",
      " [0.30196078 0.78039216 0.6745098  0.7372549  0.78039216 0.79215686 0.85490196 0.85882353 0.8627451  0.89803922 0.91764706 0.87058824 0.83529412 0.81960784 0.81176471 0.82352941 0.79607843\n",
      "  0.72156863 0.59607843 0.67058824 0.64705882 0.63529412 0.63529412 0.65490196 0.65882353 0.61568627 0.75294118 0.30588235]\n",
      " [0.         0.17647059 0.39607843 0.54901961 0.62352941 0.68235294 0.71372549 0.72941176 0.7254902  0.7372549  0.76470588 0.77254902 0.7372549  0.68627451 0.52156863 0.2745098  0.0745098\n",
      "  0.         0.         0.81960784 0.90588235 0.85490196 0.87058824 0.87843137 0.89019608 0.85098039 0.89803922 0.36470588]\n",
      " [0.         0.         0.         0.         0.         0.         0.00784314 0.09411765 0.14509804 0.17647059 0.1254902  0.07058824 0.04313725 0.         0.         0.         0.\n",
      "  0.         0.         0.28235294 0.2        0.20784314 0.14509804 0.13333333 0.11372549 0.12156863 0.01960784 0.        ]\n",
      " [0.         0.         0.         0.         0.         0.         0.         0.         0.         0.         0.         0.         0.         0.         0.         0.         0.\n",
      "  0.         0.         0.         0.         0.         0.         0.         0.         0.         0.         0.        ]\n",
      " [0.         0.         0.         0.         0.         0.         0.         0.         0.         0.         0.         0.         0.         0.         0.         0.         0.\n",
      "  0.         0.         0.         0.         0.         0.         0.         0.         0.         0.         0.        ]\n",
      " [0.         0.         0.         0.         0.         0.         0.         0.         0.         0.         0.         0.         0.         0.         0.         0.         0.\n",
      "  0.         0.         0.         0.         0.         0.         0.         0.         0.         0.         0.        ]\n",
      " [0.         0.         0.         0.         0.         0.         0.         0.         0.         0.         0.         0.         0.         0.         0.         0.         0.\n",
      "  0.         0.         0.         0.         0.         0.         0.         0.         0.         0.         0.        ]\n",
      " [0.         0.         0.         0.         0.         0.         0.         0.         0.         0.         0.         0.         0.         0.         0.         0.         0.\n",
      "  0.         0.         0.         0.         0.         0.         0.         0.         0.         0.         0.        ]]\n"
     ]
    },
    {
     "data": {
      "image/png": "[encoded data removed]",
      "text/plain": [
       "<Figure size 432x288 with 1 Axes>"
      ]
     },
     "metadata": {
      "needs_background": "light"
     },
     "output_type": "display_data"
    }
   ],
   "source": [
    "import numpy as np;\n",
    "np.set_printoptions(linewidth=200);\n",
    "import matplotlib.pyplot as plt;\n",
    "plt.imshow(training_images[42]);\n",
    "print(training_labels[42]);\n",
    "print(training_images[42]);"
   ]
  },
  {
   "cell_type": "markdown",
   "metadata": {},
   "source": [
    "# Classification"
   ]
  },
  {
   "cell_type": "code",
   "execution_count": 18,
   "metadata": {},
   "outputs": [
    {
     "name": "stdout",
     "output_type": "stream",
     "text": [
      "[2.8777869e-08 2.2384327e-12 1.2080282e-11 4.1490127e-11 2.7494791e-11 2.0149492e-03 1.7486158e-07 2.8295120e-02 4.1872067e-10 9.6968967e-01]\n"
     ]
    }
   ],
   "source": [
    "classifications = model.predict(test_images);\n",
    "print(classifications[0]);"
   ]
  },
  {
   "cell_type": "code",
   "execution_count": 19,
   "metadata": {},
   "outputs": [
    {
     "name": "stdout",
     "output_type": "stream",
     "text": [
      "9\n"
     ]
    }
   ],
   "source": [
    "print(test_labels[0]);"
   ]
  },
  {
   "cell_type": "code",
   "execution_count": 22,
   "metadata": {},
   "outputs": [
    {
     "data": {
      "image/png": "[encoded data removed]",
      "text/plain": [
       "<Figure size 432x288 with 1 Axes>"
      ]
     },
     "metadata": {
      "needs_background": "light"
     },
     "output_type": "display_data"
    }
   ],
   "source": [
    "plt.imshow(test_images[0]);"
   ]
  },
  {
   "cell_type": "code",
   "execution_count": null,
   "metadata": {},
   "outputs": [],
   "source": []
  }
 ],
 "metadata": {
  "kernelspec": {
   "display_name": "Python 3",
   "language": "python",
   "name": "python3"
  },
  "language_info": {
   "codemirror_mode": {
    "name": "ipython",
    "version": 3
   },
   "file_extension": ".py",
   "mimetype": "text/x-python",
   "name": "python",
   "nbconvert_exporter": "python",
   "pygments_lexer": "ipython3",
   "version": "3.8.5"
  }
 },
 "nbformat": 4,
 "nbformat_minor": 4
}
